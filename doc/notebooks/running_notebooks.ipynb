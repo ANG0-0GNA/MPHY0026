{
 "cells": [
  {
   "cell_type": "markdown",
   "metadata": {},
   "source": [
    "# Running these notebooks\n",
    "\n",
    "Notebooks for this course can be run by You!!\n",
    "\n",
    "If you are reading these notes on [readthedocs](https://mphy0026.readthedocs.io/en/latest/), then you should download the actual code from the [git repo](https://weisslab.cs.ucl.ac.uk/WEISSTeaching/MPHY0026).\n",
    "\n",
    "\n",
    "\n",
    "You need a python 3 environment, with virtualenv and tox installed, then you generate the correct virtual env by running tox in the source folder of the git repo. For further information, work through [this](https://scikit-surgerytf.readthedocs.io/en/latest/notebooks/tutorial_reusable_code_design.html) example and [this](https://scikit-surgerytf.readthedocs.io/en/latest/notebooks/tutorial_reusable_code_example.html) example to fully understand how the ```tox``` environment works. \n",
    "\n",
    "\n",
    "## NOTE:\n",
    "\n",
    "Getting jupyter to run your code in this package relies on 3 things:\n",
    "\n",
    "* You must ensure you start jupyter within the tox environment.\n",
    "\n",
    "```\n",
    "# If not already done.\n",
    "source .tox/py36/bin/activate\n",
    "\n",
    "# Then launch jupyter\n",
    "jupyter notebook\n",
    "```\n",
    "\n",
    "* Then when you navigate to and run this notebook, select the right kernel (named MPHY0026) from the kernel menu item, in the web browser.\n",
    "\n",
    "* Add project folder to system path, as below."
   ]
  },
  {
   "cell_type": "code",
   "execution_count": 1,
   "metadata": {},
   "outputs": [],
   "source": [
    "# Jupyter notebook sets the cwd to the folder containing the notebook.\n",
    "# So, you want to add the root of the project to the sys path, so modules load correctly.\n",
    "import sys\n",
    "sys.path.append(\"../../\")"
   ]
  }
 ],
 "metadata": {
  "kernelspec": {
   "display_name": "mphy0026",
   "language": "python",
   "name": "mphy0026"
  },
  "language_info": {
   "codemirror_mode": {
    "name": "ipython",
    "version": 3
   },
   "file_extension": ".py",
   "mimetype": "text/x-python",
   "name": "python",
   "nbconvert_exporter": "python",
   "pygments_lexer": "ipython3",
   "version": "3.6.8"
  }
 },
 "nbformat": 4,
 "nbformat_minor": 2
}
