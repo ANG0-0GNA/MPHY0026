{
 "cells": [
  {
   "cell_type": "markdown",
   "metadata": {},
   "source": [
    "# Preamble\n",
    "\n",
    "(See ```doc/notebooks/running_notebooks.ipynb``` for how to setup your environment.)\n"
   ]
  },
  {
   "cell_type": "code",
   "execution_count": 1,
   "metadata": {},
   "outputs": [],
   "source": [
    "# Jupyter notebook sets the cwd to the folder containing the notebook.\n",
    "# So, you want to add the root of the project to the sys path, so modules load correctly.\n",
    "import sys\n",
    "sys.path.append(\"../../\")\n",
    "\n",
    "# Other imports\n",
    "from IPython.display import Image\n"
   ]
  },
  {
   "cell_type": "markdown",
   "metadata": {},
   "source": [
    "# Coordinate Systems\n",
    "\n",
    "You should be familiar with the cartesian coordinate system, and how to denote co-ordinates in the 2D plane.\n",
    "\n",
    "<a title=\"Kbolino [Public domain], via Wikimedia Commons\" href=\"https://commons.wikimedia.org/wiki/File:Cartesian-coordinate-system.svg\"><img width=\"256\" alt=\"Cartesian-coordinate-system\" src=\"https://upload.wikimedia.org/wikipedia/commons/thumb/0/0e/Cartesian-coordinate-system.svg/256px-Cartesian-coordinate-system.svg.png\"></a>\n",
    "\n",
    "The same principle can be extended to 3D:\n",
    "\n",
    "<a title=\"Cronholm144 [Public domain], via Wikimedia Commons\" href=\"https://commons.wikimedia.org/wiki/File:Rectangular_coordinates.svg\"><img width=\"256\" alt=\"Rectangular coordinates\" src=\"https://upload.wikimedia.org/wikipedia/commons/thumb/f/fd/Rectangular_coordinates.svg/256px-Rectangular_coordinates.svg.png\"></a>\n",
    "\n",
    "Note: with 3D coordinate systems, you should be aware of whether coordinates are right or left handed. In this course, we will use right handed coordinates exclusively. \n",
    "\n",
    "<a title=\"Abdull [CC BY-SA 3.0 (http://creativecommons.org/licenses/by-sa/3.0/)], via Wikimedia Commons\" href=\"https://commons.wikimedia.org/wiki/File:Rechte-hand-regel.jpg\"><img width=\"512\" alt=\"Rechte-hand-regel\" src=\"https://upload.wikimedia.org/wikipedia/commons/7/79/Rechte-hand-regel.jpg\"></a>\n",
    "\n",
    "In medical imaging in general, and in particular, in image-guided surgery, it is important, not to flip axes around. Software must not accidentally mix up, the left and right hand side of the patient, which in many parts of the anatomy look very similar.\n"
   ]
  },
  {
   "cell_type": "code",
   "execution_count": null,
   "metadata": {},
   "outputs": [],
   "source": [
    "Image(url='https://www.python.org/static/img/python-logo-large.png')"
   ]
  },
  {
   "cell_type": "markdown",
   "metadata": {},
   "source": [
    "# Image-Guided Surgery (IGS) Systems\n",
    "\n",
    "Each image-guided surgery system will have a set of coordinate systems. It is essential to know how to convert from one coordinate system to another.\n"
   ]
  }
 ],
 "metadata": {
  "kernelspec": {
   "display_name": "Python 3",
   "language": "python",
   "name": "python3"
  },
  "language_info": {
   "codemirror_mode": {
    "name": "ipython",
    "version": 3
   },
   "file_extension": ".py",
   "mimetype": "text/x-python",
   "name": "python",
   "nbconvert_exporter": "python",
   "pygments_lexer": "ipython3",
   "version": "3.7.0"
  }
 },
 "nbformat": 4,
 "nbformat_minor": 2
}
