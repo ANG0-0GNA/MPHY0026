{
 "cells": [
  {
   "cell_type": "markdown",
   "metadata": {},
   "source": [
    "# Preamble\n",
    "\n",
    "(See ```doc/notebooks/running_notebooks.ipynb``` for how to setup your environment.)\n"
   ]
  },
  {
   "cell_type": "code",
   "execution_count": 3,
   "metadata": {},
   "outputs": [],
   "source": [
    "# Jupyter notebook sets the cwd to the folder containing the notebook.\n",
    "# So, you want to add the root of the project to the sys path, so modules load correctly.\n",
    "import sys\n",
    "sys.path.append(\"../../\")"
   ]
  },
  {
   "cell_type": "markdown",
   "metadata": {},
   "source": [
    "# Coordinate Systems\n",
    "\n",
    "You should be familiar with the cartesian coordinate system, and how to denote co-ordinates in the 2D plane.\n",
    "\n",
    "![2D cartesian coordinates](https://upload.wikimedia.org/wikipedia/commons/thumb/0/0e/Cartesian-coordinate-system.svg/256px-Cartesian-coordinate-system.svg.png)\n",
    "Figure 1: 2D cartesian coordinate system, by Kbolino, Public domain, <a href=\"https://commons.wikimedia.org/wiki/File:Cartesian-coordinate-system.svg\">via Wikimedia Commons</a>\n",
    "\n",
    "The same principle can be extended to 3D:\n",
    "\n",
    "![3D cartesian coordinates](https://upload.wikimedia.org/wikipedia/commons/thumb/f/fd/Rectangular_coordinates.svg/256px-Rectangular_coordinates.svg.png)\n",
    "Figure 2: 3D cartesian coordinate system, by Cronholm144, Public domain, <a href=\"https://commons.wikimedia.org/wiki/File:Rectangular_coordinates.svg\">via Wikimedia Commons</a>\n",
    "\n",
    "With 3D coordinate systems, you should be aware of whether coordinates are right or left handed. In this course, we will use right handed coordinates exclusively. \n",
    "\n",
    "![Right handed coordinates](https://upload.wikimedia.org/wikipedia/commons/7/79/Rechte-hand-regel.jpg)\n",
    "Figure 3: Right handed coordinates, thumb=X, index=Y, middle=Z, by Abdull, <a href=\"http://creativecommons.org/licenses/by-sa/3.0/\">CC BY-SA 3.0</a>, via <a href=\"https://commons.wikimedia.org/wiki/File:Rechte-hand-regel.jpg\">via Wikimedia Commons</a>\n",
    "\n",
    "In medical imaging in general, and in particular, in image-guided surgery, it is important, not to flip axes around. Software must not accidentally mix up, the left and right hand side of the patient, which in many parts of the anatomy look very similar. So, do not switch left/right handed coordinates, without a lot of software testing."
   ]
  },
  {
   "cell_type": "markdown",
   "metadata": {},
   "source": [
    "# Image-Guided Surgery (IGS) Systems\n",
    "\n",
    "Each image-guided surgery system will have a set of coordinate systems. It is essential to know how to convert from one coordinate system to another.\n"
   ]
  },
  {
   "cell_type": "code",
   "execution_count": null,
   "metadata": {},
   "outputs": [],
   "source": []
  }
 ],
 "metadata": {
  "kernelspec": {
   "display_name": "Python 3",
   "language": "python",
   "name": "python3"
  },
  "language_info": {
   "codemirror_mode": {
    "name": "ipython",
    "version": 3
   },
   "file_extension": ".py",
   "mimetype": "text/x-python",
   "name": "python",
   "nbconvert_exporter": "python",
   "pygments_lexer": "ipython3",
   "version": "3.7.0"
  }
 },
 "nbformat": 4,
 "nbformat_minor": 2
}
