{
 "cells": [
  {
   "cell_type": "markdown",
   "metadata": {},
   "source": [
    "# Point Based Registration\n",
    "\n",
    "Imagine you have collected points\n",
    "\n",
    "* 3 points, of anatomical locations, in a CT scan\n",
    "* 3 points, of the same anatomical locations, using a tracked pointer\n",
    "\n",
    "The first 3 points use image co-ordinates, the second set of 3 points use tracker coordinates. In order to use image data in the tracker coordinate system, we must find a transformation that will map between image and tracker coordinates."
   ]
  },
  {
   "cell_type": "code",
   "execution_count": 4,
   "metadata": {},
   "outputs": [],
   "source": [
    "%matplotlib inline"
   ]
  },
  {
   "cell_type": "code",
   "execution_count": 16,
   "metadata": {},
   "outputs": [],
   "source": [
    "# All imports for this notebook\n",
    "import numpy as np\n",
    "import matplotlib\n",
    "import matplotlib.pyplot as plt\n",
    "import sksurgerycore.algorithms.procrustes as pbr\n",
    "import sksurgerycore.transforms.matrix as mu\n",
    "import sys\n",
    "sys.path.append(\"../../\")"
   ]
  },
  {
   "cell_type": "code",
   "execution_count": 4,
   "metadata": {},
   "outputs": [
    {
     "data": {
      "image/png": "[encoded data removed]",
      "text/plain": [
       "<Figure size 432x288 with 1 Axes>"
      ]
     },
     "metadata": {
      "needs_background": "light"
     },
     "output_type": "display_data"
    }
   ],
   "source": [
    "# Define 3 points, as if they were in an image\n",
    "image_points = np.zeros((3,3))\n",
    "image_points[0][0] = 0\n",
    "image_points[0][1] = 0\n",
    "image_points[0][2] = 0\n",
    "image_points[1][0] = 10\n",
    "image_points[1][1] = 0\n",
    "image_points[1][2] = 0\n",
    "image_points[2][0] = 0\n",
    "image_points[2][1] = 10\n",
    "image_points[2][2] = 0\n",
    "\n",
    "# Draw them in 2D. Its a triangle.\n",
    "plt.scatter(image_points[:,0], image_points[:,1])\n",
    "plt.show()"
   ]
  },
  {
   "cell_type": "code",
   "execution_count": 5,
   "metadata": {},
   "outputs": [
    {
     "data": {
      "image/png": "[encoded data removed]",
      "text/plain": [
       "<Figure size 432x288 with 1 Axes>"
      ]
     },
     "metadata": {
      "needs_background": "light"
     },
     "output_type": "display_data"
    }
   ],
   "source": [
    "# Define 3 points, as if they were in tracker space\n",
    "tracker_points = np.zeros((3,3))\n",
    "tracker_points[0][0] = 5\n",
    "tracker_points[0][1] = 5\n",
    "tracker_points[0][2] = -1000\n",
    "tracker_points[1][0] = 15\n",
    "tracker_points[1][1] = 5\n",
    "tracker_points[1][2] = -1000\n",
    "tracker_points[2][0] = 5\n",
    "tracker_points[2][1] = 15\n",
    "tracker_points[2][2] = -1000\n",
    "\n",
    "# Draw them in 2D. Its a triangle, same point order, different location.\n",
    "plt.scatter(tracker_points[:,0], tracker_points[:,1])\n",
    "plt.show()"
   ]
  },
  {
   "cell_type": "code",
   "execution_count": 17,
   "metadata": {},
   "outputs": [],
   "source": [
    "# Compute Transformation from image to tracker\n",
    "R, t, FRE = pbr.orthogonal_procrustes(tracker_points, image_points)\n",
    "T = mu.construct_rigid_transformation(R,t)"
   ]
  },
  {
   "cell_type": "code",
   "execution_count": 18,
   "metadata": {},
   "outputs": [
    {
     "name": "stdout",
     "output_type": "stream",
     "text": [
      "[[ 1.00000000e+00 -4.26642159e-17  0.00000000e+00]\n",
      " [ 3.58404070e-17  1.00000000e+00  0.00000000e+00]\n",
      " [ 0.00000000e+00  0.00000000e+00  1.00000000e+00]]\n",
      "[[    5.]\n",
      " [    5.]\n",
      " [-1000.]]\n",
      "1.4503892858778862e-15\n",
      "[[ 1.00000000e+00 -4.26642159e-17  0.00000000e+00  5.00000000e+00]\n",
      " [ 3.58404070e-17  1.00000000e+00  0.00000000e+00  5.00000000e+00]\n",
      " [ 0.00000000e+00  0.00000000e+00  1.00000000e+00 -1.00000000e+03]\n",
      " [ 0.00000000e+00  0.00000000e+00  0.00000000e+00  1.00000000e+00]]\n"
     ]
    }
   ],
   "source": [
    "print(R)\n",
    "print(t)\n",
    "print(FRE)\n",
    "print(T)"
   ]
  },
  {
   "cell_type": "code",
   "execution_count": 19,
   "metadata": {},
   "outputs": [
    {
     "name": "stdout",
     "output_type": "stream",
     "text": [
      "[[ 1.00000000e+00 -8.53284318e-17  0.00000000e+00 -2.66453526e-15]\n",
      " [ 7.16808141e-17  1.00000000e+00  0.00000000e+00 -2.66453526e-15]\n",
      " [ 0.00000000e+00  0.00000000e+00  1.00000000e+00  9.09494702e-13]\n",
      " [ 0.00000000e+00  0.00000000e+00  0.00000000e+00  1.00000000e+00]]\n"
     ]
    }
   ],
   "source": [
    "# Construct inverse\n",
    "R2, t2, FRE2 = pbr.orthogonal_procrustes(image_points, tracker_points)\n",
    "T2 = mu.construct_rigid_transformation(R2,t2)\n",
    "print(np.matmul(T,T2))"
   ]
  },
  {
   "cell_type": "code",
   "execution_count": 20,
   "metadata": {},
   "outputs": [
    {
     "name": "stdout",
     "output_type": "stream",
     "text": [
      "0.44015551225972854\n"
     ]
    }
   ],
   "source": [
    "# Add noise to 1 point, recalculate, look at FRE\n",
    "image_points[0][0] = 1\n",
    "R, t, FRE = pbr.orthogonal_procrustes(tracker_points, image_points)\n",
    "print(FRE)"
   ]
  },
  {
   "cell_type": "code",
   "execution_count": 30,
   "metadata": {},
   "outputs": [
    {
     "name": "stdout",
     "output_type": "stream",
     "text": [
      "[[    5.58210085     5.06944883 -1000.        ]\n",
      " [   14.57914373     4.83875543 -1000.        ]\n",
      " [    4.83875543    15.09179574 -1000.        ]]\n"
     ]
    }
   ],
   "source": [
    "# Transform image points into tracker space\n",
    "transformed_image_points = np.transpose(np.matmul(R, np.transpose(image_points)) + t)\n",
    "print(transformed_image_points)"
   ]
  },
  {
   "cell_type": "code",
   "execution_count": 31,
   "metadata": {},
   "outputs": [
    {
     "data": {
      "image/png": "[encoded data removed]",
      "text/plain": [
       "<Figure size 432x288 with 1 Axes>"
      ]
     },
     "metadata": {
      "needs_background": "light"
     },
     "output_type": "display_data"
    }
   ],
   "source": [
    "# Plot tracker points and transformed image points\n",
    "fig = plt.figure()\n",
    "ax1 = fig.add_subplot(111)\n",
    "ax1.scatter(tracker_points[:,0], tracker_points[:,1], s=10, c='b', marker=\"s\", label='tracker')\n",
    "ax1.scatter(transformed_image_points[:,0], transformed_image_points[:,1], s=10, c='r', marker=\"o\", label='transformed image')\n",
    "plt.legend(loc='upper right');\n",
    "plt.show()"
   ]
  },
  {
   "cell_type": "code",
   "execution_count": null,
   "metadata": {},
   "outputs": [],
   "source": []
  }
 ],
 "metadata": {
  "kernelspec": {
   "display_name": "mphy0026",
   "language": "python",
   "name": "mphy0026"
  },
  "language_info": {
   "codemirror_mode": {
    "name": "ipython",
    "version": 3
   },
   "file_extension": ".py",
   "mimetype": "text/x-python",
   "name": "python",
   "nbconvert_exporter": "python",
   "pygments_lexer": "ipython3",
   "version": "3.6.8"
  }
 },
 "nbformat": 4,
 "nbformat_minor": 2
}
